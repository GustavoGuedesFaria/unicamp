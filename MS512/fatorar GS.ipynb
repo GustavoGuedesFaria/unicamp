{
 "cells": [
  {
   "cell_type": "code",
   "execution_count": 215,
   "metadata": {},
   "outputs": [],
   "source": [
    "import numpy as np\n",
    "import pandas as pd\n",
    "\n",
    "def fatorarGS(n, A):\n",
    "    Q = np.copy(A) #inicializa Q como uma copia de A\n",
    "    R = np.zeros((n,n))\n",
    "    normas = [] #cria um vetor que armazena as normas das bases ortogonais\n",
    "    for j in range(n):\n",
    "        normas.append(np.sqrt(Q[:,j].dot(Q[:,j])))\n",
    "        print(np.sqrt(Q[:,j].dot(Q[:,j])))\n",
    "        for i in range(n):\n",
    "            for k in range(j):\n",
    "                print(Q[i][j])\n",
    "                print(Q[i][k])\n",
    "                Q[i][j] = float(Q[i][j] - Q[i][k]/(normas[k])) #remove as projecoes do vetor com relacao as outras bases ortogonais\n",
    "                print(Q[i][j])\n",
    "                print(Q[i][k])\n",
    "                print(\"------\")\n",
    "    \n",
    "    print(normas)\n",
    "    print(Q)\n",
    "        \n",
    "    return Q,R"
   ]
  },
  {
   "cell_type": "code",
   "execution_count": 216,
   "metadata": {},
   "outputs": [
    {
     "name": "stdout",
     "output_type": "stream",
     "text": [
      "1.4142135623730951\n",
      "1.4142135623730951\n",
      "1.0\n",
      "1.0\n",
      "0.29289321881345254\n",
      "1.0\n",
      "------\n",
      "1.0\n",
      "0.0\n",
      "1.0\n",
      "0.0\n",
      "------\n",
      "0.0\n",
      "1.0\n",
      "-0.7071067811865475\n",
      "1.0\n",
      "------\n",
      "1.4142135623730951\n",
      "0.0\n",
      "1.0\n",
      "-0.7071067811865475\n",
      "1.0\n",
      "------\n",
      "-0.7071067811865475\n",
      "0.29289321881345254\n",
      "-0.914213562373095\n",
      "0.29289321881345254\n",
      "------\n",
      "1.0\n",
      "0.0\n",
      "1.0\n",
      "0.0\n",
      "------\n",
      "1.0\n",
      "1.0\n",
      "0.29289321881345254\n",
      "1.0\n",
      "------\n",
      "1.0\n",
      "1.0\n",
      "0.29289321881345254\n",
      "1.0\n",
      "------\n",
      "0.29289321881345254\n",
      "-0.7071067811865475\n",
      "0.7928932188134525\n",
      "-0.7071067811865475\n",
      "------\n",
      "[1.4142135623730951, 1.4142135623730951, 1.4142135623730951]\n",
      "[[ 1.          0.29289322 -0.91421356]\n",
      " [ 0.          1.          0.29289322]\n",
      " [ 1.         -0.70710678  0.79289322]]\n"
     ]
    }
   ],
   "source": [
    "A = [[1.,1.,0.],[0.,1.,1.], [1.,0.,1.]]\n",
    "Q,R = fatorarGS(3,A)"
   ]
  },
  {
   "cell_type": "code",
   "execution_count": 200,
   "metadata": {},
   "outputs": [
    {
     "name": "stdout",
     "output_type": "stream",
     "text": [
      "1\n"
     ]
    }
   ],
   "source": [
    "print (1)"
   ]
  },
  {
   "cell_type": "code",
   "execution_count": 217,
   "metadata": {},
   "outputs": [
    {
     "name": "stdout",
     "output_type": "stream",
     "text": [
      "14.0\n",
      "176.2554963681984\n",
      "-51\n",
      "12\n",
      "-51\n",
      "12\n",
      "------\n",
      "167\n",
      "6\n",
      "166\n",
      "6\n",
      "------\n",
      "24\n",
      "-4\n",
      "24\n",
      "-4\n",
      "------\n",
      "79.50471684120383\n",
      "4\n",
      "12\n",
      "3\n",
      "12\n",
      "------\n",
      "3\n",
      "-51\n",
      "3\n",
      "-51\n",
      "------\n",
      "-68\n",
      "6\n",
      "-68\n",
      "6\n",
      "------\n",
      "-68\n",
      "166\n",
      "-68\n",
      "166\n",
      "------\n",
      "-41\n",
      "-4\n",
      "-40\n",
      "-4\n",
      "------\n",
      "-40\n",
      "24\n",
      "-40\n",
      "24\n",
      "------\n",
      "[14.0, 176.2554963681984, 79.50471684120383]\n",
      "[[ 12 -51   3]\n",
      " [  6 166 -68]\n",
      " [ -4  24 -40]]\n"
     ]
    }
   ],
   "source": [
    "A = [[12,-51,4],[6,167,-68],[-4,24,-41]]\n",
    "Q,R = fatorarGS(3,A)\n",
    "\n"
   ]
  },
  {
   "cell_type": "code",
   "execution_count": null,
   "metadata": {},
   "outputs": [],
   "source": []
  },
  {
   "cell_type": "code",
   "execution_count": null,
   "metadata": {},
   "outputs": [],
   "source": []
  }
 ],
 "metadata": {
  "kernelspec": {
   "display_name": "Python 3",
   "language": "python",
   "name": "python3"
  },
  "language_info": {
   "codemirror_mode": {
    "name": "ipython",
    "version": 3
   },
   "file_extension": ".py",
   "mimetype": "text/x-python",
   "name": "python",
   "nbconvert_exporter": "python",
   "pygments_lexer": "ipython3",
   "version": "3.7.3"
  }
 },
 "nbformat": 4,
 "nbformat_minor": 2
}
